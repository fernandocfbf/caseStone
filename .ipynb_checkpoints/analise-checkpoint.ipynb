{
 "cells": [
  {
   "cell_type": "markdown",
   "metadata": {},
   "source": [
    "## Case TON - Análise técnica dos dados\n",
    "##### Fernando Fincatti\n",
    "---"
   ]
  },
  {
   "cell_type": "markdown",
   "metadata": {},
   "source": [
    "## Imports\n",
    "---"
   ]
  },
  {
   "cell_type": "code",
   "execution_count": 1,
   "metadata": {},
   "outputs": [],
   "source": [
    "import matplotlib.pyplot as plt\n",
    "import numpy as np\n",
    "import pandas as pd\n",
    "import math\n",
    "import datetime\n",
    "from utils import*\n",
    "from sklearn.cluster import KMeans\n",
    "from scipy.spatial import distance as sci_distance\n",
    "from sklearn import cluster as sk_cluster"
   ]
  },
  {
   "cell_type": "code",
   "execution_count": 2,
   "metadata": {},
   "outputs": [],
   "source": [
    "df_cases = pd.read_csv(\"cases.csv\") #importa arquivo cases\n",
    "df_creds = pd.read_csv(\"creds.csv\") #importa arquivo creds"
   ]
  },
  {
   "cell_type": "code",
   "execution_count": 3,
   "metadata": {
    "scrolled": true
   },
   "outputs": [
    {
     "data": {
      "text/html": [
       "<div>\n",
       "<style scoped>\n",
       "    .dataframe tbody tr th:only-of-type {\n",
       "        vertical-align: middle;\n",
       "    }\n",
       "\n",
       "    .dataframe tbody tr th {\n",
       "        vertical-align: top;\n",
       "    }\n",
       "\n",
       "    .dataframe thead th {\n",
       "        text-align: right;\n",
       "    }\n",
       "</style>\n",
       "<table border=\"1\" class=\"dataframe\">\n",
       "  <thead>\n",
       "    <tr style=\"text-align: right;\">\n",
       "      <th></th>\n",
       "      <th>Unnamed: 0</th>\n",
       "      <th>cred_date</th>\n",
       "      <th>shipping_address_city</th>\n",
       "      <th>shipping_address_state</th>\n",
       "      <th>max_machine</th>\n",
       "      <th>accountid</th>\n",
       "    </tr>\n",
       "  </thead>\n",
       "  <tbody>\n",
       "    <tr>\n",
       "      <th>0</th>\n",
       "      <td>0</td>\n",
       "      <td>2020-04-18</td>\n",
       "      <td>Feira de Santana</td>\n",
       "      <td>BA</td>\n",
       "      <td>T1</td>\n",
       "      <td>NaN</td>\n",
       "    </tr>\n",
       "    <tr>\n",
       "      <th>1</th>\n",
       "      <td>1</td>\n",
       "      <td>2020-10-16</td>\n",
       "      <td>Bacuri</td>\n",
       "      <td>MA</td>\n",
       "      <td>T1</td>\n",
       "      <td>NaN</td>\n",
       "    </tr>\n",
       "  </tbody>\n",
       "</table>\n",
       "</div>"
      ],
      "text/plain": [
       "   Unnamed: 0   cred_date shipping_address_city shipping_address_state  \\\n",
       "0           0  2020-04-18      Feira de Santana                     BA   \n",
       "1           1  2020-10-16                Bacuri                     MA   \n",
       "\n",
       "  max_machine accountid  \n",
       "0          T1       NaN  \n",
       "1          T1       NaN  "
      ]
     },
     "execution_count": 3,
     "metadata": {},
     "output_type": "execute_result"
    }
   ],
   "source": [
    "df_creds.head(2)"
   ]
  },
  {
   "cell_type": "code",
   "execution_count": 4,
   "metadata": {},
   "outputs": [
    {
     "data": {
      "text/plain": [
       "Index(['Unnamed: 0', 'cred_date', 'shipping_address_city',\n",
       "       'shipping_address_state', 'max_machine', 'accountid'],\n",
       "      dtype='object')"
      ]
     },
     "execution_count": 4,
     "metadata": {},
     "output_type": "execute_result"
    }
   ],
   "source": [
    "df_creds.columns"
   ]
  },
  {
   "cell_type": "code",
   "execution_count": 5,
   "metadata": {
    "scrolled": true
   },
   "outputs": [
    {
     "data": {
      "text/html": [
       "<div>\n",
       "<style scoped>\n",
       "    .dataframe tbody tr th:only-of-type {\n",
       "        vertical-align: middle;\n",
       "    }\n",
       "\n",
       "    .dataframe tbody tr th {\n",
       "        vertical-align: top;\n",
       "    }\n",
       "\n",
       "    .dataframe thead th {\n",
       "        text-align: right;\n",
       "    }\n",
       "</style>\n",
       "<table border=\"1\" class=\"dataframe\">\n",
       "  <thead>\n",
       "    <tr style=\"text-align: right;\">\n",
       "      <th></th>\n",
       "      <th>Unnamed: 0</th>\n",
       "      <th>accountid</th>\n",
       "      <th>date_ref</th>\n",
       "      <th>channelid</th>\n",
       "      <th>waitingtime</th>\n",
       "      <th>missed</th>\n",
       "      <th>pesquisa_de_satisfa_o__c</th>\n",
       "      <th>assunto</th>\n",
       "      <th>Id</th>\n",
       "    </tr>\n",
       "  </thead>\n",
       "  <tbody>\n",
       "    <tr>\n",
       "      <th>0</th>\n",
       "      <td>0</td>\n",
       "      <td>NaN</td>\n",
       "      <td>NaN</td>\n",
       "      <td>NaN</td>\n",
       "      <td>NaN</td>\n",
       "      <td>NaN</td>\n",
       "      <td>NaN</td>\n",
       "      <td>NaN</td>\n",
       "      <td>NaN</td>\n",
       "    </tr>\n",
       "    <tr>\n",
       "      <th>1</th>\n",
       "      <td>1</td>\n",
       "      <td>NaN</td>\n",
       "      <td>NaN</td>\n",
       "      <td>NaN</td>\n",
       "      <td>NaN</td>\n",
       "      <td>NaN</td>\n",
       "      <td>NaN</td>\n",
       "      <td>NaN</td>\n",
       "      <td>NaN</td>\n",
       "    </tr>\n",
       "  </tbody>\n",
       "</table>\n",
       "</div>"
      ],
      "text/plain": [
       "   Unnamed: 0 accountid date_ref  channelid  waitingtime missed  \\\n",
       "0           0       NaN      NaN        NaN          NaN    NaN   \n",
       "1           1       NaN      NaN        NaN          NaN    NaN   \n",
       "\n",
       "  pesquisa_de_satisfa_o__c assunto   Id  \n",
       "0                      NaN     NaN  NaN  \n",
       "1                      NaN     NaN  NaN  "
      ]
     },
     "execution_count": 5,
     "metadata": {},
     "output_type": "execute_result"
    }
   ],
   "source": [
    "df_cases.head(2)"
   ]
  },
  {
   "cell_type": "code",
   "execution_count": 6,
   "metadata": {},
   "outputs": [
    {
     "data": {
      "text/plain": [
       "Index(['Unnamed: 0', 'accountid', 'date_ref', 'channelid', 'waitingtime',\n",
       "       'missed', 'pesquisa_de_satisfa_o__c', 'assunto', 'Id'],\n",
       "      dtype='object')"
      ]
     },
     "execution_count": 6,
     "metadata": {},
     "output_type": "execute_result"
    }
   ],
   "source": [
    "df_cases.columns"
   ]
  },
  {
   "cell_type": "code",
   "execution_count": 7,
   "metadata": {},
   "outputs": [],
   "source": [
    "#filtra somente para os chamados que possuem data registrada\n",
    "df_cases = df_cases.dropna(subset=['date_ref'])\n",
    "df_creds = df_creds.dropna(subset=['cred_date']) "
   ]
  },
  {
   "cell_type": "code",
   "execution_count": 8,
   "metadata": {},
   "outputs": [],
   "source": [
    "#transforma dados para datetime\n",
    "df_cases[\"date_ref\"] = df_cases['date_ref'].apply(lambda x: datetime.datetime.strptime(x, \"%Y-%m-%d\")) \n",
    "\n",
    "#cria coluna ano, mês e dia\n",
    "df_cases[\"mes\"] = df_cases['date_ref'].apply(lambda x: x.month) \n",
    "df_cases[\"dia\"] = df_cases['date_ref'].apply(lambda x: x.day) "
   ]
  },
  {
   "cell_type": "code",
   "execution_count": 9,
   "metadata": {},
   "outputs": [],
   "source": [
    "#transforma dados para datetime\n",
    "df_creds[\"cred_date\"] = df_creds['cred_date'].apply(lambda x: datetime.datetime.strptime(x, \"%Y-%m-%d\")) \n",
    "\n",
    "#cria coluna ano, mês e dia\n",
    "df_creds[\"mes\"] = df_creds['cred_date'].apply(lambda x: x.month) \n",
    "df_creds[\"dia\"] = df_creds['cred_date'].apply(lambda x: x.day) "
   ]
  },
  {
   "cell_type": "markdown",
   "metadata": {},
   "source": [
    "## Questão 1.\n",
    "---"
   ]
  },
  {
   "cell_type": "code",
   "execution_count": 10,
   "metadata": {},
   "outputs": [],
   "source": [
    "df_cases_q1 = df_cases.copy()"
   ]
  },
  {
   "cell_type": "code",
   "execution_count": 11,
   "metadata": {},
   "outputs": [],
   "source": [
    "#coluna que serve apenas para contagem de chamados\n",
    "df_cases_q1[\"count\"] = 1\n",
    "\n",
    "#tabela com a somatória de chamados para todo o período\n",
    "table_q1 = df_cases_q1[[\"mes\", \"count\"]].groupby(['mes']).sum()\n",
    "\n",
    "#tabela com a somatória de chamados para o período antes da implementação\n",
    "table_q1_tendencia = df_cases_q1.loc[df_cases_q1[\"mes\"] < 8][[\"mes\", \"count\"]].groupby(['mes']).count()"
   ]
  },
  {
   "cell_type": "code",
   "execution_count": 12,
   "metadata": {},
   "outputs": [],
   "source": [
    "z = np.polyfit(table_q1_tendencia.index.tolist(), table_q1_tendencia[\"count\"].tolist(), 2)\n",
    "function = np.poly1d(z)"
   ]
  },
  {
   "cell_type": "code",
   "execution_count": 13,
   "metadata": {
    "scrolled": true
   },
   "outputs": [
    {
     "data": {
      "image/png": "[encoded data removed]",
      "text/plain": [
       "<Figure size 720x360 with 1 Axes>"
      ]
     },
     "metadata": {
      "needs_background": "light"
     },
     "output_type": "display_data"
    }
   ],
   "source": [
    "plt.figure(figsize=(10,5))\n",
    "plt.title(\"Número de chamados por mês\")\n",
    "plt.xlabel(\"Número de chamado\")\n",
    "plt.plot(table_q1, label=\"realidade\") #plota curva dos dados\n",
    "plt.plot(table_q1, 'bo') #cria pontos\n",
    "plt.plot(table_q1.index.tolist(), function(table_q1.index.tolist()),\"r--\", label=\"tendência\") #realiza previsão\n",
    "plt.legend()\n",
    "plt.show()"
   ]
  },
  {
   "cell_type": "markdown",
   "metadata": {},
   "source": [
    "Com base no gráfco acima, podemos ver que o número de chamados vinha aumentando exponencialmente, após a implementação no dia \n",
    "primeiro de agosto, o volume de chamados caiu drasticamente, quebrando completamente a tendência de crescimento do gráfico. Portanto podemos concluir que a implementação foi um sucesso!"
   ]
  },
  {
   "cell_type": "markdown",
   "metadata": {},
   "source": [
    "## Questão 2.\n",
    "---"
   ]
  },
  {
   "cell_type": "code",
   "execution_count": 14,
   "metadata": {},
   "outputs": [],
   "source": [
    "#filtra somente os cliente possíveis de serem indentificados\n",
    "df_cases_q2 = df_cases.dropna(subset=[\"accountid\"]) \n",
    "df_creds_q2 = df_creds.dropna(subset=[\"accountid\"])"
   ]
  },
  {
   "cell_type": "code",
   "execution_count": 15,
   "metadata": {},
   "outputs": [],
   "source": [
    "#junta os dois datasets, somente aqueles que estão credenciados\n",
    "df_merged = pd.merge(df_cases_q2, df_creds_q2, on='accountid', how='inner')"
   ]
  },
  {
   "cell_type": "code",
   "execution_count": 16,
   "metadata": {},
   "outputs": [],
   "source": [
    "#calcula distância em dias do dia de credenciamento\n",
    "df_merged[\"time_distance\"] = df_merged.apply(lambda x: (x[\"cred_date\"] - x[\"date_ref\"]).days, axis=1)"
   ]
  },
  {
   "cell_type": "code",
   "execution_count": 17,
   "metadata": {},
   "outputs": [],
   "source": [
    "#coluna de contagem\n",
    "df_merged[\"count\"] = 1"
   ]
  },
  {
   "cell_type": "code",
   "execution_count": 18,
   "metadata": {
    "scrolled": true
   },
   "outputs": [
    {
     "name": "stdout",
     "output_type": "stream",
     "text": [
      "31,429 | 31,429 > 100.0%\r"
     ]
    }
   ],
   "source": [
    "lista_ids = df_merged.accountid.unique().tolist() #pega todos os id unicos\n",
    "lista_media_mes_seguinte = []\n",
    "lista_media_meses_anteriores = []\n",
    "counter = 0 #progesso\n",
    "for id_ in lista_ids:\n",
    "    counter += 1\n",
    "    \n",
    "    response = get_5months_before(id_, df_merged) #pega chamados\n",
    "    \n",
    "    #armazena as médias de chamadas do mes seguinte ao cred para todos os clientes\n",
    "    lista_media_mes_seguinte.append(response[1])\n",
    "    \n",
    "    #armazena as médias de chamadas dos meses ateriores ao cred para todos os clientes\n",
    "    lista_media_meses_anteriores.append(response[0])   \n",
    "    \n",
    "    progresso = round(counter*100/len(lista_ids) , 2)\n",
    "    print(\"{:,} | {:,} > {}%\".format(counter, len(lista_ids), progresso), end = \"\\r\")"
   ]
  },
  {
   "cell_type": "code",
   "execution_count": 19,
   "metadata": {
    "scrolled": true
   },
   "outputs": [
    {
     "data": {
      "image/png": "[encoded data removed]",
      "text/plain": [
       "<Figure size 720x432 with 1 Axes>"
      ]
     },
     "metadata": {
      "needs_background": "light"
     },
     "output_type": "display_data"
    }
   ],
   "source": [
    "plt.figure(figsize=(10,6))\n",
    "plt.boxplot([lista_media_meses_anteriores, lista_media_mes_seguinte], labels=['antes', 'depois'])\n",
    "plt.title(\"Nº médio 5 meses antes do credenciamento Vs Nº de chamados após 1 mês do credenciamento \")\n",
    "plt.ylim(-2, 10)\n",
    "plt.ylabel(\"Número de chamados\")\n",
    "plt.show()"
   ]
  },
  {
   "cell_type": "markdown",
   "metadata": {},
   "source": [
    "Como é possível observar no boxplot acima, a concetração de número médios de chamados 5 meses antes do credenciamento é muito menor quando comparado ao mês seguinte ao mesmo. Portanto, podemos concluir que o número de chamados logo após a data do credenciamento do aumenta consideravelmente!"
   ]
  },
  {
   "cell_type": "code",
   "execution_count": 20,
   "metadata": {},
   "outputs": [],
   "source": [
    "md_antes = sum(lista_media_meses_anteriores) / len(lista_media_meses_anteriores)\n",
    "md_depois= sum(lista_media_mes_seguinte) / len(lista_media_mes_seguinte)"
   ]
  },
  {
   "cell_type": "code",
   "execution_count": 21,
   "metadata": {
    "scrolled": true
   },
   "outputs": [
    {
     "data": {
      "image/png": "[encoded data removed]",
      "text/plain": [
       "<Figure size 432x288 with 1 Axes>"
      ]
     },
     "metadata": {
      "needs_background": "light"
     },
     "output_type": "display_data"
    },
    {
     "name": "stdout",
     "output_type": "stream",
     "text": [
      "Após o credenciamento, o aumento no número médio de chamados é de: 54.74 vezes\n"
     ]
    }
   ],
   "source": [
    "plt.title(\"Média de chamados antes do credenciamento Vs depois do credenciamento\")\n",
    "plt.bar(['Antes', 'Depois'], [md_antes, md_depois])\n",
    "plt.ylabel(\"Nº chamados\")\n",
    "plt.show()\n",
    "\n",
    "print(\"Após o credenciamento, o aumento no número médio de chamados é de: {0} vezes\".format(round(md_depois/md_antes, 2)))"
   ]
  },
  {
   "cell_type": "markdown",
   "metadata": {},
   "source": [
    "Como o gráfico acima, podemos reforçar a nossa conclusão, uma vez que a média de chamados aumentou 12.72 vezes logo após o credenciamento quando comparado aos 5 meses anteriores"
   ]
  },
  {
   "cell_type": "markdown",
   "metadata": {},
   "source": [
    "## Questão 3.\n",
    "---"
   ]
  },
  {
   "cell_type": "code",
   "execution_count": 22,
   "metadata": {},
   "outputs": [],
   "source": [
    "df_cluster = pd.merge(df_cases, df_creds, on='accountid', how='outer')"
   ]
  },
  {
   "cell_type": "code",
   "execution_count": 23,
   "metadata": {},
   "outputs": [],
   "source": [
    "#filtra as colunas desejadas e remove todas as colunas que são NaN, ou seja, que não é possível fazer a clusterização\n",
    "df_cluster = df_cluster[['channelid','waitingtime','missed','pesquisa_de_satisfa_o__c', 'assunto', 'date_ref', 'cred_date']].dropna(subset=['pesquisa_de_satisfa_o__c'])"
   ]
  },
  {
   "cell_type": "code",
   "execution_count": 24,
   "metadata": {},
   "outputs": [],
   "source": [
    "#cria coluna binária, 1 se o cliente foi cred recentemente e 0 caso contrário\n",
    "df_cluster[\"cred_recente\"] = df_cluster.apply(lambda x: recentemente_credenciado(x['date_ref'],x['cred_date']), axis=1)"
   ]
  },
  {
   "cell_type": "code",
   "execution_count": 25,
   "metadata": {},
   "outputs": [],
   "source": [
    "#transforma avaliações boas em 1, neutras em 0 e ruins em -1\n",
    "df_cluster['avaliacao_to_integer'] = df_cluster['pesquisa_de_satisfa_o__c'].apply(lambda x: transforma_avaliação(x))"
   ]
  },
  {
   "cell_type": "code",
   "execution_count": 26,
   "metadata": {},
   "outputs": [],
   "source": [
    "df_cluster_test = df_cluster.drop([\"pesquisa_de_satisfa_o__c\", \"assunto\", \"date_ref\", \"cred_date\"], axis='columns')"
   ]
  },
  {
   "cell_type": "code",
   "execution_count": 27,
   "metadata": {
    "scrolled": true
   },
   "outputs": [
    {
     "data": {
      "image/png": "[encoded data removed]",
      "text/plain": [
       "<Figure size 432x288 with 1 Axes>"
      ]
     },
     "metadata": {
      "needs_background": "light"
     },
     "output_type": "display_data"
    }
   ],
   "source": [
    "#descobrindo o número de clsuters necessários\n",
    "cdata = df_cluster_test\n",
    "K = range(1, 20)\n",
    "KM = (sk_cluster.KMeans(n_clusters=k).fit(cdata) for k in K)\n",
    "centroids = (k.cluster_centers_ for k in KM)\n",
    "\n",
    "D_k = (sci_distance.cdist(cdata, cent, 'euclidean') for cent in centroids)\n",
    "dist = (np.min(D, axis=1) for D in D_k)\n",
    "avgWithinSS = [sum(d) / cdata.shape[0] for d in dist]\n",
    "plt.plot(K, avgWithinSS, 'b*-')\n",
    "plt.grid(True)\n",
    "plt.xlabel('Number of clusters')\n",
    "plt.ylabel('Average within-cluster sum of squares')\n",
    "plt.title('Elbow for KMeans clustering')\n",
    "plt.show()"
   ]
  },
  {
   "cell_type": "markdown",
   "metadata": {},
   "source": [
    "Com base no gráfico acima, podemos concluir que o número ideal de clusters para se utilizar é aproximadamente 5.\n",
    "\n",
    "Fonte: https://docs.microsoft.com/pt-br/sql/machine-learning/tutorials/python-clustering-model-build?view=sql-server-ver15"
   ]
  },
  {
   "cell_type": "code",
   "execution_count": 28,
   "metadata": {},
   "outputs": [
    {
     "name": "stdout",
     "output_type": "stream",
     "text": [
      "Cluster0(n=45185):\n",
      "-----------------\n",
      "Cluster1(n=195):\n",
      "-----------------\n",
      "Cluster2(n=521):\n",
      "-----------------\n",
      "Cluster3(n=55):\n",
      "-----------------\n",
      "Cluster4(n=1891):\n",
      "-----------------\n",
      "         channelid  waitingtime  cred_recente  avaliacao_to_integer\n",
      "cluster                                                            \n",
      "0              2.0    12.538519      0.805776              0.101339\n",
      "1              2.0   814.425641      0.887179              0.010256\n",
      "2              2.0   339.491363      0.861804              0.157390\n",
      "3              2.0  1488.327273      0.727273              0.145455\n",
      "4              2.0   110.756214      0.793231              0.043363\n"
     ]
    }
   ],
   "source": [
    "n_clusters = 5\n",
    "\n",
    "means_cluster = sk_cluster.KMeans(n_clusters=n_clusters, random_state=111)\n",
    "columns = ['channelid','waitingtime','missed','avaliacao_to_integer', 'cred_recente']\n",
    "est = means_cluster.fit(df_cluster[columns])\n",
    "clusters = est.labels_\n",
    "df_cluster['cluster'] = clusters\n",
    "\n",
    "# Print some data about the clusters:\n",
    "\n",
    "# For each cluster, count the members.\n",
    "for c in range(n_clusters):\n",
    "    cluster_members=df_cluster[df_cluster['cluster'] == c][:]\n",
    "    print('Cluster{}(n={}):'.format(c, len(cluster_members)))\n",
    "    print('-'* 17)\n",
    "print(df_cluster.groupby(['cluster']).mean())"
   ]
  },
  {
   "cell_type": "code",
   "execution_count": 29,
   "metadata": {},
   "outputs": [],
   "source": [
    "cluster = df_cluster.cluster.unique().tolist()"
   ]
  },
  {
   "cell_type": "code",
   "execution_count": 30,
   "metadata": {
    "scrolled": false
   },
   "outputs": [
    {
     "name": "stdout",
     "output_type": "stream",
     "text": [
      "CLUSTER -> 0\n",
      "Pontuação: 0.23\n",
      "\n",
      "CLUSTER -> 2\n",
      "Pontuação: 0.36\n",
      "\n",
      "CLUSTER -> 4\n",
      "Pontuação: 0.18\n",
      "\n",
      "CLUSTER -> 3\n",
      "Pontuação: 0.15\n",
      "\n",
      "CLUSTER -> 1\n",
      "Pontuação: 0.05\n",
      "\n"
     ]
    }
   ],
   "source": [
    "for cl in cluster:\n",
    "    print(\"CLUSTER -> {0}\".format(cl))\n",
    "    counts = df_cluster.loc[df_cluster['cluster'] == cl]['avaliacao_to_integer'].value_counts(True)\n",
    "\n",
    "    if( len(counts) == 3):\n",
    "        pos = df_cluster.loc[df_cluster['cluster'] == cl]['avaliacao_to_integer'].value_counts(True)[1] * 1\n",
    "        neg = df_cluster.loc[df_cluster['cluster'] == cl]['avaliacao_to_integer'].value_counts(True)[1] * (-1)\n",
    "        print(\"Pontuação: {0}\".format(round(pos-neg, 2)))\n",
    "   \n",
    "    elif(len(counts) == 2):\n",
    "        pos = df_cluster.loc[df_cluster['cluster'] == cl]['avaliacao_to_integer'].value_counts(True)[1] * 1\n",
    "        print(\"Pontuação: {0}\".format(round(pos, 2)))\n",
    "    else:\n",
    "        print(\"Pontuação: 0\")\n",
    "\n",
    "        \n",
    "    print()"
   ]
  },
  {
   "cell_type": "markdown",
   "metadata": {},
   "source": [
    "Para realizar a análise foi utilizado o algorítmo k-means, segmentando o dataset em 5 diferentes grupos. Foi estabelecido um sistema de pontuação, sendo avaliações neutras = 0, positivas = 1 e negativas = -1. Dessa forma, a pontuação de cada um dos clusters foi calculada da seguinte forma:\n",
    "\n",
    "(Nº de av. positivas)*1 + (Nº de av. neutras)*0 + (Nº de av. negativas)*(-1)\n",
    "\n",
    "É possível observar que os clusters 4 e 1 apresentam as menores pontuações, portanto possuem as piores avaliações. Dessa forma, o CLUSTER 1/4 seriam um bom ponto de partida para melhorar a avaliação dos atendimentos.\n",
    "\n",
    "Inspiração: algoritmo de Needleman-Wunsch.\n",
    "\n",
    "Fonte: https://pt.wikipedia.org/wiki/Algoritmo_Needleman-Wunsch#:~:text=O%20algoritmo%20Needleman%E2%80%93Wunsch%20tem,seq%C3%BC%C3%AAncias%20de%20prote%C3%ADnas%20ou%20nucleot%C3%ADdeos."
   ]
  },
  {
   "cell_type": "markdown",
   "metadata": {},
   "source": [
    "## Questão 4\n",
    "---"
   ]
  },
  {
   "cell_type": "code",
   "execution_count": 31,
   "metadata": {},
   "outputs": [],
   "source": [
    "df_q4 = df_cluster.copy()"
   ]
  },
  {
   "cell_type": "code",
   "execution_count": 32,
   "metadata": {},
   "outputs": [
    {
     "data": {
      "text/html": [
       "<div>\n",
       "<style scoped>\n",
       "    .dataframe tbody tr th:only-of-type {\n",
       "        vertical-align: middle;\n",
       "    }\n",
       "\n",
       "    .dataframe tbody tr th {\n",
       "        vertical-align: top;\n",
       "    }\n",
       "\n",
       "    .dataframe thead th {\n",
       "        text-align: right;\n",
       "    }\n",
       "</style>\n",
       "<table border=\"1\" class=\"dataframe\">\n",
       "  <thead>\n",
       "    <tr style=\"text-align: right;\">\n",
       "      <th></th>\n",
       "      <th>channelid</th>\n",
       "      <th>waitingtime</th>\n",
       "      <th>missed</th>\n",
       "      <th>pesquisa_de_satisfa_o__c</th>\n",
       "      <th>assunto</th>\n",
       "      <th>date_ref</th>\n",
       "      <th>cred_date</th>\n",
       "      <th>cred_recente</th>\n",
       "      <th>avaliacao_to_integer</th>\n",
       "      <th>cluster</th>\n",
       "    </tr>\n",
       "  </thead>\n",
       "  <tbody>\n",
       "    <tr>\n",
       "      <th>103</th>\n",
       "      <td>2.0</td>\n",
       "      <td>4.0</td>\n",
       "      <td>False</td>\n",
       "      <td>Enviado</td>\n",
       "      <td>Pedido:Confirmação do pedido:</td>\n",
       "      <td>2020-06-03</td>\n",
       "      <td>2020-06-05</td>\n",
       "      <td>0</td>\n",
       "      <td>0</td>\n",
       "      <td>0</td>\n",
       "    </tr>\n",
       "    <tr>\n",
       "      <th>104</th>\n",
       "      <td>2.0</td>\n",
       "      <td>4.0</td>\n",
       "      <td>False</td>\n",
       "      <td>Enviado</td>\n",
       "      <td>Pedido:Confirmação do pedido:</td>\n",
       "      <td>2020-06-03</td>\n",
       "      <td>2020-06-05</td>\n",
       "      <td>0</td>\n",
       "      <td>0</td>\n",
       "      <td>0</td>\n",
       "    </tr>\n",
       "    <tr>\n",
       "      <th>105</th>\n",
       "      <td>2.0</td>\n",
       "      <td>4.0</td>\n",
       "      <td>False</td>\n",
       "      <td>Enviado</td>\n",
       "      <td>Pedido:Confirmação do pedido:</td>\n",
       "      <td>2020-06-03</td>\n",
       "      <td>2020-06-05</td>\n",
       "      <td>0</td>\n",
       "      <td>0</td>\n",
       "      <td>0</td>\n",
       "    </tr>\n",
       "    <tr>\n",
       "      <th>106</th>\n",
       "      <td>2.0</td>\n",
       "      <td>4.0</td>\n",
       "      <td>False</td>\n",
       "      <td>Enviado</td>\n",
       "      <td>Pedido:Confirmação do pedido:</td>\n",
       "      <td>2020-06-03</td>\n",
       "      <td>2020-06-05</td>\n",
       "      <td>0</td>\n",
       "      <td>0</td>\n",
       "      <td>0</td>\n",
       "    </tr>\n",
       "    <tr>\n",
       "      <th>107</th>\n",
       "      <td>2.0</td>\n",
       "      <td>4.0</td>\n",
       "      <td>False</td>\n",
       "      <td>Enviado</td>\n",
       "      <td>Pedido:Confirmação do pedido:</td>\n",
       "      <td>2020-06-03</td>\n",
       "      <td>2020-06-05</td>\n",
       "      <td>0</td>\n",
       "      <td>0</td>\n",
       "      <td>0</td>\n",
       "    </tr>\n",
       "  </tbody>\n",
       "</table>\n",
       "</div>"
      ],
      "text/plain": [
       "     channelid  waitingtime missed pesquisa_de_satisfa_o__c  \\\n",
       "103        2.0          4.0  False                  Enviado   \n",
       "104        2.0          4.0  False                  Enviado   \n",
       "105        2.0          4.0  False                  Enviado   \n",
       "106        2.0          4.0  False                  Enviado   \n",
       "107        2.0          4.0  False                  Enviado   \n",
       "\n",
       "                           assunto   date_ref  cred_date  cred_recente  \\\n",
       "103  Pedido:Confirmação do pedido: 2020-06-03 2020-06-05             0   \n",
       "104  Pedido:Confirmação do pedido: 2020-06-03 2020-06-05             0   \n",
       "105  Pedido:Confirmação do pedido: 2020-06-03 2020-06-05             0   \n",
       "106  Pedido:Confirmação do pedido: 2020-06-03 2020-06-05             0   \n",
       "107  Pedido:Confirmação do pedido: 2020-06-03 2020-06-05             0   \n",
       "\n",
       "     avaliacao_to_integer  cluster  \n",
       "103                     0        0  \n",
       "104                     0        0  \n",
       "105                     0        0  \n",
       "106                     0        0  \n",
       "107                     0        0  "
      ]
     },
     "execution_count": 32,
     "metadata": {},
     "output_type": "execute_result"
    }
   ],
   "source": [
    "df_q4.head()"
   ]
  },
  {
   "cell_type": "code",
   "execution_count": 33,
   "metadata": {},
   "outputs": [],
   "source": [
    "df_q4[\"mes\"] = df_q4[\"date_ref\"].apply(lambda x: x.month)"
   ]
  },
  {
   "cell_type": "code",
   "execution_count": 34,
   "metadata": {},
   "outputs": [
    {
     "name": "stderr",
     "output_type": "stream",
     "text": [
      "<ipython-input-34-be79c912ecad>:3: SettingWithCopyWarning: \n",
      "A value is trying to be set on a copy of a slice from a DataFrame.\n",
      "Try using .loc[row_indexer,col_indexer] = value instead\n",
      "\n",
      "See the caveats in the documentation: https://pandas.pydata.org/pandas-docs/stable/user_guide/indexing.html#returning-a-view-versus-a-copy\n",
      "  df_q4_3meses[\"week_number\"] = df_q4_3meses[\"date_ref\"].apply(lambda x: x.isocalendar()[1]) #define o número da semana em relação ao ano\n"
     ]
    }
   ],
   "source": [
    "ultimo_mes = df_q4[\"mes\"].max() #pega o últmo mês\n",
    "df_q4_3meses = df_q4.loc[df_q4[\"mes\"] > ultimo_mes - 3] #filtra somente os ultimos 3 meses\n",
    "df_q4_3meses[\"week_number\"] = df_q4_3meses[\"date_ref\"].apply(lambda x: x.isocalendar()[1]) #define o número da semana em relação ao ano"
   ]
  },
  {
   "cell_type": "code",
   "execution_count": 35,
   "metadata": {},
   "outputs": [
    {
     "name": "stderr",
     "output_type": "stream",
     "text": [
      "<ipython-input-35-0bd04389cdc6>:2: SettingWithCopyWarning: \n",
      "A value is trying to be set on a copy of a slice from a DataFrame.\n",
      "Try using .loc[row_indexer,col_indexer] = value instead\n",
      "\n",
      "See the caveats in the documentation: https://pandas.pydata.org/pandas-docs/stable/user_guide/indexing.html#returning-a-view-versus-a-copy\n",
      "  df_q4_3meses[\"counter\"] = 1\n"
     ]
    }
   ],
   "source": [
    "#cria coluna para somar\n",
    "df_q4_3meses[\"counter\"] = 1"
   ]
  },
  {
   "cell_type": "code",
   "execution_count": 36,
   "metadata": {},
   "outputs": [],
   "source": [
    "#soma o número de chamados por semana por cluster dos últimos 3 meses\n",
    "query = df_q4_3meses[[\"week_number\", \"cluster\", \"counter\"]].groupby([\"week_number\", \"cluster\"]).sum()"
   ]
  },
  {
   "cell_type": "code",
   "execution_count": 37,
   "metadata": {},
   "outputs": [
    {
     "data": {
      "text/html": [
       "<div>\n",
       "<style scoped>\n",
       "    .dataframe tbody tr th:only-of-type {\n",
       "        vertical-align: middle;\n",
       "    }\n",
       "\n",
       "    .dataframe tbody tr th {\n",
       "        vertical-align: top;\n",
       "    }\n",
       "\n",
       "    .dataframe thead th {\n",
       "        text-align: right;\n",
       "    }\n",
       "</style>\n",
       "<table border=\"1\" class=\"dataframe\">\n",
       "  <thead>\n",
       "    <tr style=\"text-align: right;\">\n",
       "      <th></th>\n",
       "      <th></th>\n",
       "      <th>counter</th>\n",
       "    </tr>\n",
       "    <tr>\n",
       "      <th>week_number</th>\n",
       "      <th>cluster</th>\n",
       "      <th></th>\n",
       "    </tr>\n",
       "  </thead>\n",
       "  <tbody>\n",
       "    <tr>\n",
       "      <th rowspan=\"2\" valign=\"top\">14</th>\n",
       "      <th>0</th>\n",
       "      <td>470</td>\n",
       "    </tr>\n",
       "    <tr>\n",
       "      <th>4</th>\n",
       "      <td>1</td>\n",
       "    </tr>\n",
       "    <tr>\n",
       "      <th rowspan=\"2\" valign=\"top\">15</th>\n",
       "      <th>0</th>\n",
       "      <td>1012</td>\n",
       "    </tr>\n",
       "    <tr>\n",
       "      <th>4</th>\n",
       "      <td>20</td>\n",
       "    </tr>\n",
       "    <tr>\n",
       "      <th rowspan=\"3\" valign=\"top\">16</th>\n",
       "      <th>0</th>\n",
       "      <td>1227</td>\n",
       "    </tr>\n",
       "    <tr>\n",
       "      <th>2</th>\n",
       "      <td>1</td>\n",
       "    </tr>\n",
       "    <tr>\n",
       "      <th>4</th>\n",
       "      <td>12</td>\n",
       "    </tr>\n",
       "    <tr>\n",
       "      <th rowspan=\"2\" valign=\"top\">17</th>\n",
       "      <th>0</th>\n",
       "      <td>1500</td>\n",
       "    </tr>\n",
       "    <tr>\n",
       "      <th>4</th>\n",
       "      <td>8</td>\n",
       "    </tr>\n",
       "    <tr>\n",
       "      <th rowspan=\"4\" valign=\"top\">18</th>\n",
       "      <th>0</th>\n",
       "      <td>1685</td>\n",
       "    </tr>\n",
       "    <tr>\n",
       "      <th>1</th>\n",
       "      <td>3</td>\n",
       "    </tr>\n",
       "    <tr>\n",
       "      <th>2</th>\n",
       "      <td>10</td>\n",
       "    </tr>\n",
       "    <tr>\n",
       "      <th>4</th>\n",
       "      <td>18</td>\n",
       "    </tr>\n",
       "    <tr>\n",
       "      <th rowspan=\"4\" valign=\"top\">19</th>\n",
       "      <th>0</th>\n",
       "      <td>2640</td>\n",
       "    </tr>\n",
       "    <tr>\n",
       "      <th>1</th>\n",
       "      <td>3</td>\n",
       "    </tr>\n",
       "    <tr>\n",
       "      <th>2</th>\n",
       "      <td>8</td>\n",
       "    </tr>\n",
       "    <tr>\n",
       "      <th>4</th>\n",
       "      <td>80</td>\n",
       "    </tr>\n",
       "    <tr>\n",
       "      <th rowspan=\"5\" valign=\"top\">20</th>\n",
       "      <th>0</th>\n",
       "      <td>3346</td>\n",
       "    </tr>\n",
       "    <tr>\n",
       "      <th>1</th>\n",
       "      <td>2</td>\n",
       "    </tr>\n",
       "    <tr>\n",
       "      <th>2</th>\n",
       "      <td>17</td>\n",
       "    </tr>\n",
       "    <tr>\n",
       "      <th>3</th>\n",
       "      <td>6</td>\n",
       "    </tr>\n",
       "    <tr>\n",
       "      <th>4</th>\n",
       "      <td>73</td>\n",
       "    </tr>\n",
       "    <tr>\n",
       "      <th rowspan=\"5\" valign=\"top\">21</th>\n",
       "      <th>0</th>\n",
       "      <td>2965</td>\n",
       "    </tr>\n",
       "    <tr>\n",
       "      <th>1</th>\n",
       "      <td>59</td>\n",
       "    </tr>\n",
       "    <tr>\n",
       "      <th>2</th>\n",
       "      <td>38</td>\n",
       "    </tr>\n",
       "    <tr>\n",
       "      <th>3</th>\n",
       "      <td>10</td>\n",
       "    </tr>\n",
       "    <tr>\n",
       "      <th>4</th>\n",
       "      <td>165</td>\n",
       "    </tr>\n",
       "    <tr>\n",
       "      <th rowspan=\"5\" valign=\"top\">22</th>\n",
       "      <th>0</th>\n",
       "      <td>3095</td>\n",
       "    </tr>\n",
       "    <tr>\n",
       "      <th>1</th>\n",
       "      <td>32</td>\n",
       "    </tr>\n",
       "    <tr>\n",
       "      <th>2</th>\n",
       "      <td>68</td>\n",
       "    </tr>\n",
       "    <tr>\n",
       "      <th>3</th>\n",
       "      <td>3</td>\n",
       "    </tr>\n",
       "    <tr>\n",
       "      <th>4</th>\n",
       "      <td>73</td>\n",
       "    </tr>\n",
       "    <tr>\n",
       "      <th rowspan=\"5\" valign=\"top\">23</th>\n",
       "      <th>0</th>\n",
       "      <td>4072</td>\n",
       "    </tr>\n",
       "    <tr>\n",
       "      <th>1</th>\n",
       "      <td>46</td>\n",
       "    </tr>\n",
       "    <tr>\n",
       "      <th>2</th>\n",
       "      <td>85</td>\n",
       "    </tr>\n",
       "    <tr>\n",
       "      <th>3</th>\n",
       "      <td>20</td>\n",
       "    </tr>\n",
       "    <tr>\n",
       "      <th>4</th>\n",
       "      <td>214</td>\n",
       "    </tr>\n",
       "    <tr>\n",
       "      <th rowspan=\"5\" valign=\"top\">24</th>\n",
       "      <th>0</th>\n",
       "      <td>4163</td>\n",
       "    </tr>\n",
       "    <tr>\n",
       "      <th>1</th>\n",
       "      <td>15</td>\n",
       "    </tr>\n",
       "    <tr>\n",
       "      <th>2</th>\n",
       "      <td>92</td>\n",
       "    </tr>\n",
       "    <tr>\n",
       "      <th>3</th>\n",
       "      <td>7</td>\n",
       "    </tr>\n",
       "    <tr>\n",
       "      <th>4</th>\n",
       "      <td>274</td>\n",
       "    </tr>\n",
       "    <tr>\n",
       "      <th rowspan=\"5\" valign=\"top\">25</th>\n",
       "      <th>0</th>\n",
       "      <td>5662</td>\n",
       "    </tr>\n",
       "    <tr>\n",
       "      <th>1</th>\n",
       "      <td>17</td>\n",
       "    </tr>\n",
       "    <tr>\n",
       "      <th>2</th>\n",
       "      <td>88</td>\n",
       "    </tr>\n",
       "    <tr>\n",
       "      <th>3</th>\n",
       "      <td>9</td>\n",
       "    </tr>\n",
       "    <tr>\n",
       "      <th>4</th>\n",
       "      <td>319</td>\n",
       "    </tr>\n",
       "    <tr>\n",
       "      <th rowspan=\"4\" valign=\"top\">26</th>\n",
       "      <th>0</th>\n",
       "      <td>7766</td>\n",
       "    </tr>\n",
       "    <tr>\n",
       "      <th>1</th>\n",
       "      <td>9</td>\n",
       "    </tr>\n",
       "    <tr>\n",
       "      <th>2</th>\n",
       "      <td>101</td>\n",
       "    </tr>\n",
       "    <tr>\n",
       "      <th>4</th>\n",
       "      <td>473</td>\n",
       "    </tr>\n",
       "    <tr>\n",
       "      <th rowspan=\"4\" valign=\"top\">27</th>\n",
       "      <th>0</th>\n",
       "      <td>3073</td>\n",
       "    </tr>\n",
       "    <tr>\n",
       "      <th>1</th>\n",
       "      <td>9</td>\n",
       "    </tr>\n",
       "    <tr>\n",
       "      <th>2</th>\n",
       "      <td>13</td>\n",
       "    </tr>\n",
       "    <tr>\n",
       "      <th>4</th>\n",
       "      <td>145</td>\n",
       "    </tr>\n",
       "  </tbody>\n",
       "</table>\n",
       "</div>"
      ],
      "text/plain": [
       "                     counter\n",
       "week_number cluster         \n",
       "14          0            470\n",
       "            4              1\n",
       "15          0           1012\n",
       "            4             20\n",
       "16          0           1227\n",
       "            2              1\n",
       "            4             12\n",
       "17          0           1500\n",
       "            4              8\n",
       "18          0           1685\n",
       "            1              3\n",
       "            2             10\n",
       "            4             18\n",
       "19          0           2640\n",
       "            1              3\n",
       "            2              8\n",
       "            4             80\n",
       "20          0           3346\n",
       "            1              2\n",
       "            2             17\n",
       "            3              6\n",
       "            4             73\n",
       "21          0           2965\n",
       "            1             59\n",
       "            2             38\n",
       "            3             10\n",
       "            4            165\n",
       "22          0           3095\n",
       "            1             32\n",
       "            2             68\n",
       "            3              3\n",
       "            4             73\n",
       "23          0           4072\n",
       "            1             46\n",
       "            2             85\n",
       "            3             20\n",
       "            4            214\n",
       "24          0           4163\n",
       "            1             15\n",
       "            2             92\n",
       "            3              7\n",
       "            4            274\n",
       "25          0           5662\n",
       "            1             17\n",
       "            2             88\n",
       "            3              9\n",
       "            4            319\n",
       "26          0           7766\n",
       "            1              9\n",
       "            2            101\n",
       "            4            473\n",
       "27          0           3073\n",
       "            1              9\n",
       "            2             13\n",
       "            4            145"
      ]
     },
     "execution_count": 37,
     "metadata": {},
     "output_type": "execute_result"
    }
   ],
   "source": [
    "query"
   ]
  },
  {
   "cell_type": "markdown",
   "metadata": {},
   "source": [
    "## Questão 5\n",
    "---"
   ]
  },
  {
   "cell_type": "markdown",
   "metadata": {},
   "source": [
    "1° KPI: volume de chamados por assunto, para que dessa forma sejam indentificados o principais problemas enfrentados pelos clientes;\n",
    "\n",
    "2º KPI: número de atendimentos perdidos;\n",
    "\n",
    "3º KPI: tempo médio de resposta;\n",
    "\n",
    "4º KPI: volume de chamados por canal de contato, para que dessa forma seja possível direcionar o atendimento para canais específicos."
   ]
  },
  {
   "cell_type": "code",
   "execution_count": null,
   "metadata": {},
   "outputs": [],
   "source": []
  }
 ],
 "metadata": {
  "kernelspec": {
   "display_name": "Python 3",
   "language": "python",
   "name": "python3"
  },
  "language_info": {
   "codemirror_mode": {
    "name": "ipython",
    "version": 3
   },
   "file_extension": ".py",
   "mimetype": "text/x-python",
   "name": "python",
   "nbconvert_exporter": "python",
   "pygments_lexer": "ipython3",
   "version": "3.8.3"
  }
 },
 "nbformat": 4,
 "nbformat_minor": 4
}
