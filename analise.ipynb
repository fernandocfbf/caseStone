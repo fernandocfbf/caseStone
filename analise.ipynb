{
 "cells": [
  {
   "cell_type": "markdown",
   "metadata": {},
   "source": [
    "## Case TON - Análise técnica dos dados\n",
    "##### Fernando Fincatti\n",
    "---"
   ]
  },
  {
   "cell_type": "markdown",
   "metadata": {},
   "source": [
    "## Imports\n",
    "---"
   ]
  },
  {
   "cell_type": "code",
   "execution_count": 1,
   "metadata": {},
   "outputs": [],
   "source": [
    "import matplotlib.pyplot as plt\n",
    "import numpy as np\n",
    "import pandas as pd\n",
    "import math\n",
    "import datetime\n",
    "from utils import*\n"
   ]
  },
  {
   "cell_type": "code",
   "execution_count": 2,
   "metadata": {},
   "outputs": [],
   "source": [
    "df_cases = pd.read_csv(\"cases.csv\") #importa arquivo cases\n",
    "df_creds = pd.read_csv(\"creds.csv\") #importa arquivo creds"
   ]
  },
  {
   "cell_type": "code",
   "execution_count": 3,
   "metadata": {
    "scrolled": true
   },
   "outputs": [
    {
     "data": {
      "text/html": [
       "<div>\n",
       "<style scoped>\n",
       "    .dataframe tbody tr th:only-of-type {\n",
       "        vertical-align: middle;\n",
       "    }\n",
       "\n",
       "    .dataframe tbody tr th {\n",
       "        vertical-align: top;\n",
       "    }\n",
       "\n",
       "    .dataframe thead th {\n",
       "        text-align: right;\n",
       "    }\n",
       "</style>\n",
       "<table border=\"1\" class=\"dataframe\">\n",
       "  <thead>\n",
       "    <tr style=\"text-align: right;\">\n",
       "      <th></th>\n",
       "      <th>Unnamed: 0</th>\n",
       "      <th>cred_date</th>\n",
       "      <th>shipping_address_city</th>\n",
       "      <th>shipping_address_state</th>\n",
       "      <th>max_machine</th>\n",
       "      <th>accountid</th>\n",
       "    </tr>\n",
       "  </thead>\n",
       "  <tbody>\n",
       "    <tr>\n",
       "      <th>0</th>\n",
       "      <td>0</td>\n",
       "      <td>2020-04-18</td>\n",
       "      <td>Feira de Santana</td>\n",
       "      <td>BA</td>\n",
       "      <td>T1</td>\n",
       "      <td>NaN</td>\n",
       "    </tr>\n",
       "    <tr>\n",
       "      <th>1</th>\n",
       "      <td>1</td>\n",
       "      <td>2020-10-16</td>\n",
       "      <td>Bacuri</td>\n",
       "      <td>MA</td>\n",
       "      <td>T1</td>\n",
       "      <td>NaN</td>\n",
       "    </tr>\n",
       "  </tbody>\n",
       "</table>\n",
       "</div>"
      ],
      "text/plain": [
       "   Unnamed: 0   cred_date shipping_address_city shipping_address_state  \\\n",
       "0           0  2020-04-18      Feira de Santana                     BA   \n",
       "1           1  2020-10-16                Bacuri                     MA   \n",
       "\n",
       "  max_machine accountid  \n",
       "0          T1       NaN  \n",
       "1          T1       NaN  "
      ]
     },
     "execution_count": 3,
     "metadata": {},
     "output_type": "execute_result"
    }
   ],
   "source": [
    "df_creds.head(2)"
   ]
  },
  {
   "cell_type": "code",
   "execution_count": 4,
   "metadata": {},
   "outputs": [
    {
     "data": {
      "text/plain": [
       "Index(['Unnamed: 0', 'cred_date', 'shipping_address_city',\n",
       "       'shipping_address_state', 'max_machine', 'accountid'],\n",
       "      dtype='object')"
      ]
     },
     "execution_count": 4,
     "metadata": {},
     "output_type": "execute_result"
    }
   ],
   "source": [
    "df_creds.columns"
   ]
  },
  {
   "cell_type": "code",
   "execution_count": 5,
   "metadata": {
    "scrolled": true
   },
   "outputs": [
    {
     "data": {
      "text/html": [
       "<div>\n",
       "<style scoped>\n",
       "    .dataframe tbody tr th:only-of-type {\n",
       "        vertical-align: middle;\n",
       "    }\n",
       "\n",
       "    .dataframe tbody tr th {\n",
       "        vertical-align: top;\n",
       "    }\n",
       "\n",
       "    .dataframe thead th {\n",
       "        text-align: right;\n",
       "    }\n",
       "</style>\n",
       "<table border=\"1\" class=\"dataframe\">\n",
       "  <thead>\n",
       "    <tr style=\"text-align: right;\">\n",
       "      <th></th>\n",
       "      <th>Unnamed: 0</th>\n",
       "      <th>accountid</th>\n",
       "      <th>date_ref</th>\n",
       "      <th>channelid</th>\n",
       "      <th>waitingtime</th>\n",
       "      <th>missed</th>\n",
       "      <th>pesquisa_de_satisfa_o__c</th>\n",
       "      <th>assunto</th>\n",
       "      <th>Id</th>\n",
       "    </tr>\n",
       "  </thead>\n",
       "  <tbody>\n",
       "    <tr>\n",
       "      <th>0</th>\n",
       "      <td>0</td>\n",
       "      <td>NaN</td>\n",
       "      <td>NaN</td>\n",
       "      <td>NaN</td>\n",
       "      <td>NaN</td>\n",
       "      <td>NaN</td>\n",
       "      <td>NaN</td>\n",
       "      <td>NaN</td>\n",
       "      <td>NaN</td>\n",
       "    </tr>\n",
       "    <tr>\n",
       "      <th>1</th>\n",
       "      <td>1</td>\n",
       "      <td>NaN</td>\n",
       "      <td>NaN</td>\n",
       "      <td>NaN</td>\n",
       "      <td>NaN</td>\n",
       "      <td>NaN</td>\n",
       "      <td>NaN</td>\n",
       "      <td>NaN</td>\n",
       "      <td>NaN</td>\n",
       "    </tr>\n",
       "  </tbody>\n",
       "</table>\n",
       "</div>"
      ],
      "text/plain": [
       "   Unnamed: 0 accountid date_ref  channelid  waitingtime missed  \\\n",
       "0           0       NaN      NaN        NaN          NaN    NaN   \n",
       "1           1       NaN      NaN        NaN          NaN    NaN   \n",
       "\n",
       "  pesquisa_de_satisfa_o__c assunto   Id  \n",
       "0                      NaN     NaN  NaN  \n",
       "1                      NaN     NaN  NaN  "
      ]
     },
     "execution_count": 5,
     "metadata": {},
     "output_type": "execute_result"
    }
   ],
   "source": [
    "df_cases.head(2)"
   ]
  },
  {
   "cell_type": "code",
   "execution_count": 6,
   "metadata": {},
   "outputs": [
    {
     "data": {
      "text/plain": [
       "Index(['Unnamed: 0', 'accountid', 'date_ref', 'channelid', 'waitingtime',\n",
       "       'missed', 'pesquisa_de_satisfa_o__c', 'assunto', 'Id'],\n",
       "      dtype='object')"
      ]
     },
     "execution_count": 6,
     "metadata": {},
     "output_type": "execute_result"
    }
   ],
   "source": [
    "df_cases.columns"
   ]
  },
  {
   "cell_type": "code",
   "execution_count": 7,
   "metadata": {},
   "outputs": [],
   "source": [
    "#filtra somente para os chamados que possuem data registrada\n",
    "df_cases = df_cases.dropna(subset=['date_ref'])\n",
    "df_creds = df_creds.dropna(subset=['cred_date']) "
   ]
  },
  {
   "cell_type": "code",
   "execution_count": 8,
   "metadata": {},
   "outputs": [],
   "source": [
    "#transforma dados para datetime\n",
    "df_cases[\"date_ref\"] = df_cases['date_ref'].apply(lambda x: datetime.datetime.strptime(x, \"%Y-%m-%d\")) \n",
    "\n",
    "#cria coluna ano, mês e dia\n",
    "df_cases[\"mes\"] = df_cases['date_ref'].apply(lambda x: x.month) \n",
    "df_cases[\"dia\"] = df_cases['date_ref'].apply(lambda x: x.day) "
   ]
  },
  {
   "cell_type": "code",
   "execution_count": 9,
   "metadata": {},
   "outputs": [],
   "source": [
    "#transforma dados para datetime\n",
    "df_creds[\"cred_date\"] = df_creds['cred_date'].apply(lambda x: datetime.datetime.strptime(x, \"%Y-%m-%d\")) \n",
    "\n",
    "#cria coluna ano, mês e dia\n",
    "df_creds[\"mes\"] = df_creds['cred_date'].apply(lambda x: x.month) \n",
    "df_creds[\"dia\"] = df_creds['cred_date'].apply(lambda x: x.day) "
   ]
  },
  {
   "cell_type": "markdown",
   "metadata": {},
   "source": [
    "## Questão 1.\n",
    "---"
   ]
  },
  {
   "cell_type": "code",
   "execution_count": 10,
   "metadata": {},
   "outputs": [],
   "source": [
    "df_cases_q1 = df_cases.copy()"
   ]
  },
  {
   "cell_type": "code",
   "execution_count": 11,
   "metadata": {},
   "outputs": [],
   "source": [
    "#coluna que serve apenas para contagem de chamados\n",
    "df_cases_q1[\"count\"] = 1\n",
    "\n",
    "#tabela com a somatória de chamados para todo o período\n",
    "table_q1 = df_cases_q1[[\"mes\", \"count\"]].groupby(['mes']).sum()\n",
    "\n",
    "#tabela com a somatória de chamados para o período antes da implementação\n",
    "table_q1_tendencia = df_cases_q1.loc[df_cases_q1[\"mes\"] < 8][[\"mes\", \"count\"]].groupby(['mes']).count()"
   ]
  },
  {
   "cell_type": "code",
   "execution_count": 12,
   "metadata": {},
   "outputs": [],
   "source": [
    "z = np.polyfit(table_q1_tendencia.index.tolist(), table_q1_tendencia[\"count\"].tolist(), 2)\n",
    "function = np.poly1d(z)"
   ]
  },
  {
   "cell_type": "code",
   "execution_count": 13,
   "metadata": {
    "scrolled": true
   },
   "outputs": [
    {
     "data": {
      "image/png": "[encoded data removed]",
      "text/plain": [
       "<Figure size 720x360 with 1 Axes>"
      ]
     },
     "metadata": {
      "needs_background": "light"
     },
     "output_type": "display_data"
    }
   ],
   "source": [
    "plt.figure(figsize=(10,5))\n",
    "plt.title(\"Número de chamados por mês\")\n",
    "plt.xlabel(\"Número de chamado\")\n",
    "plt.plot(table_q1, label=\"realidade\") #plota curva dos dados\n",
    "plt.plot(table_q1, 'bo') #cria pontos\n",
    "plt.plot(table_q1.index.tolist(), function(table_q1.index.tolist()),\"r--\", label=\"tendência\") #realiza previsão\n",
    "plt.legend()\n",
    "plt.show()"
   ]
  },
  {
   "cell_type": "markdown",
   "metadata": {},
   "source": [
    "Com base no gráfco acima, podemos ver que o número de chamados vinha aumentando exponencialmente, após a implementação no dia \n",
    "primeiro de agosto, o volume de chamados caiu drasticamente, quebrando completamente a tendência de crescimento do gráfico. Portanto podemos concluir que a implementação foi um sucesso!"
   ]
  },
  {
   "cell_type": "markdown",
   "metadata": {},
   "source": [
    "## Questão 2.\n",
    "---"
   ]
  },
  {
   "cell_type": "code",
   "execution_count": 14,
   "metadata": {},
   "outputs": [],
   "source": [
    "def get_cred_date(client_id, check_list, creds):\n",
    "    \"\"\"\n",
    "    Função responsável por pegar a data de credenciamento para determinado cliente\n",
    "    Parâmetros: id do cliente (string), lista de id credenciados (list), base de credenciamento (Pandas.DataFrame)\n",
    "    Retorna: Data do credenciamento se existir e \"nao credenciado\" caso não exista\n",
    "    \"\"\"\n",
    "    if client_id in check_list:\n",
    "        return creds.loc[creds[\"accountid\"] == client_id][\"cred_date\"].tolist()[0]\n",
    "    return 'nao credenciado'"
   ]
  },
  {
   "cell_type": "code",
   "execution_count": 35,
   "metadata": {},
   "outputs": [],
   "source": [
    "def get_5months_before(client_id, df):\n",
    "    \"\"\"\n",
    "    Função reposável por calcular a média de atendimentos dois meses antes do credenciamento\n",
    "    Recebe: id do cliente (string), data de credenciamento (datetime), base de dados total (Pandas.Dataframe)\n",
    "    \"\"\"\n",
    "    \n",
    "    #filtra somente para o cliente desejado\n",
    "    df_cliente = df.loc[df[\"accountid\"] == client_id]\n",
    "    \n",
    "    #filtra para chamados meses antes\n",
    "    df_cliente_before = df_cliente.loc[(df_cliente[\"time_distance\"] <= 150) & (df_cliente[\"time_distance\"] > 0)]\n",
    "    table_before = df_cliente_before[[\"count\", \"mes_x\"]].groupby([\"mes_x\"]).sum()\n",
    "    \n",
    "    #filtra para meses depois\n",
    "    df_cliente_after = df_cliente.loc[(df_cliente[\"time_distance\"] >= -30) & (df_cliente[\"time_distance\"] <= 0)]\n",
    "    table_after = df_cliente_after[[\"count\", \"mes_x\"]].groupby([\"mes_x\"]).sum()\n",
    "    \n",
    "    #se não teve nenhum chamado antes\n",
    "    if(table_before.shape[0] == 0):\n",
    "        before = 0\n",
    "    else:\n",
    "        before = table_before.mean()[0]\n",
    "        \n",
    "    #se não teve nenhum chamado depois\n",
    "    if(table_after.shape[0] == 0):\n",
    "        after = 0\n",
    "    else:\n",
    "        after = table_after.mean()[0]\n",
    "    \n",
    "    return [before, after]"
   ]
  },
  {
   "cell_type": "code",
   "execution_count": 16,
   "metadata": {},
   "outputs": [],
   "source": [
    "#filtra somente os cliente possíveis de serem indentificados\n",
    "df_cases_q2 = df_cases.dropna(subset=[\"accountid\"]) \n",
    "df_creds_q2 = df_creds.dropna(subset=[\"accountid\"])"
   ]
  },
  {
   "cell_type": "code",
   "execution_count": 17,
   "metadata": {},
   "outputs": [],
   "source": [
    "#junta os dois datasets, somente aqueles que estão credenciados\n",
    "df_merged = pd.merge(df_cases_q2, df_creds_q2, on='accountid', how='inner')"
   ]
  },
  {
   "cell_type": "code",
   "execution_count": 18,
   "metadata": {},
   "outputs": [],
   "source": [
    "#calcula distância em dias do dia de credenciamento\n",
    "df_merged[\"time_distance\"] = df_merged.apply(lambda x: (x[\"cred_date\"] - x[\"date_ref\"]).days, axis=1)"
   ]
  },
  {
   "cell_type": "code",
   "execution_count": 19,
   "metadata": {},
   "outputs": [],
   "source": [
    "#coluna de contagem\n",
    "df_merged[\"count\"] = 1"
   ]
  },
  {
   "cell_type": "code",
   "execution_count": 36,
   "metadata": {
    "scrolled": true
   },
   "outputs": [
    {
     "name": "stdout",
     "output_type": "stream",
     "text": [
      "[0, 3.0]31,429 > 3.18%\n",
      "[0, 1.0]31,429 > 6.36%\n",
      "[0, 1.0]31,429 > 9.55%\n",
      "[0, 9.0]31,429 > 12.73%\n",
      "[0, 16.0]1,429 > 15.91%\n",
      "[0, 16.0]1,429 > 19.09%\n",
      "[0, 5.0]31,429 > 22.27%\n",
      "[0, 1.0]31,429 > 25.45%\n",
      "[0, 16.0]1,429 > 28.64%\n",
      "[0, 4.0] 31,429 > 31.82%\n",
      "[0, 1.0] 31,429 > 35.0%%\n",
      "[0, 0] | 31,429 > 38.18%\n",
      "[0, 4.0] 31,429 > 41.36%\n",
      "[0, 1.0] 31,429 > 44.54%\n",
      "[0, 0] | 31,429 > 47.73%\n",
      "[0, 0] | 31,429 > 50.91%\n",
      "[0, 6.0] 31,429 > 54.09%\n",
      "[0, 9.0] 31,429 > 57.27%\n",
      "[0, 4.0] 31,429 > 60.45%\n",
      "[0, 4.5] 31,429 > 63.64%\n",
      "[0, 1.0] 31,429 > 66.82%\n",
      "[4.5, 0] 31,429 > 70.0%%\n",
      "[0, 6.0] 31,429 > 73.18%\n",
      "[0, 1.0] 31,429 > 76.36%\n",
      "[0, 1.0] 31,429 > 79.54%\n",
      "[0, 0] | 31,429 > 82.73%\n",
      "[0, 1.0] 31,429 > 85.91%\n",
      "[0, 0] | 31,429 > 89.09%\n",
      "[0, 0] | 31,429 > 92.27%\n",
      "[0, 8.0] 31,429 > 95.45%\n",
      "[0, 0] | 31,429 > 98.64%\n",
      "31,429 | 31,429 > 100.0%\r"
     ]
    }
   ],
   "source": [
    "lista_ids = df_merged.accountid.unique().tolist() #pega todos os id unicos\n",
    "lista_media_mes_seguinte = []\n",
    "lista_media_meses_anteriores = []\n",
    "counter = 0 #progesso\n",
    "for id_ in lista_ids:\n",
    "    counter += 1\n",
    "    \n",
    "    response = get_5months_before(id_, df_merged) #pega chamados\n",
    "    \n",
    "    #armazena as médias de chamadas do mes seguinte ao cred para todos os clientes\n",
    "    lista_media_mes_seguinte.append(response[id_][1])\n",
    "    \n",
    "    #armazena as médias de chamadas dos meses ateriores ao cred para todos os clientes\n",
    "    lista_media_meses_anteriores.append(response[id_][0])   \n",
    "    \n",
    "    progresso = round(counter*100/len(lista_ids) , 2)\n",
    "    print(\"{:,} | {:,} > {}%\".format(counter, len(lista_ids), progresso), end = \"\\r\")"
   ]
  },
  {
   "cell_type": "code",
   "execution_count": 38,
   "metadata": {},
   "outputs": [],
   "source": [
    "lista_media_mes_seguinte = []\n",
    "lista_media_meses_anteriores = []\n",
    "\n",
    "for id_ in dicionario_ids:\n",
    "    \n",
    "    #armazena as médias de chamadas do mes seguinte ao cred para todos os clientes\n",
    "    lista_media_mes_seguinte.append(dicionario_ids[id_][1])\n",
    "    \n",
    "    #armazena as médias de chamadas dos meses ateriores ao cred para todos os clientes\n",
    "    lista_media_meses_anteriores.append(dicionario_ids[id_][0])    "
   ]
  },
  {
   "cell_type": "code",
   "execution_count": 60,
   "metadata": {
    "scrolled": true
   },
   "outputs": [
    {
     "data": {
      "image/png": "[encoded data removed]",
      "text/plain": [
       "<Figure size 720x432 with 1 Axes>"
      ]
     },
     "metadata": {
      "needs_background": "light"
     },
     "output_type": "display_data"
    }
   ],
   "source": [
    "plt.figure(figsize=(10,6))\n",
    "plt.boxplot([lista_media_meses_anteriores, lista_media_mes_seguinte], labels=['antes', 'depois'])\n",
    "plt.title(\"Nº médio 5 meses antes do credenciamento Vs Nº de chamados após 1 mês do credenciamento \")\n",
    "plt.ylim(-2, 10)\n",
    "plt.ylabel(\"Número de chamados\")\n",
    "plt.show()"
   ]
  },
  {
   "cell_type": "markdown",
   "metadata": {},
   "source": [
    "Como é possível observar no boxplot acima, a concetração de número médios de chamados 5 meses antes do credenciamento é muito menor quando comparado ao mês seguinte ao mesmo. Portanto, podemos conclui que o número de chamados logo após a data do credenciamento do"
   ]
  },
  {
   "cell_type": "code",
   "execution_count": 41,
   "metadata": {},
   "outputs": [
    {
     "data": {
      "text/plain": [
       "4.912389831047759"
      ]
     },
     "execution_count": 41,
     "metadata": {},
     "output_type": "execute_result"
    }
   ],
   "source": [
    "md = sum(lista_media_mes_seguinte) / len(lista_media_mes_seguinte)\n",
    "md"
   ]
  },
  {
   "cell_type": "code",
   "execution_count": 42,
   "metadata": {},
   "outputs": [
    {
     "data": {
      "text/plain": [
       "0.4235260428266887"
      ]
     },
     "execution_count": 42,
     "metadata": {},
     "output_type": "execute_result"
    }
   ],
   "source": [
    "md = sum(lista_media_meses_anteriores) / len(lista_media_meses_anteriores)\n",
    "md"
   ]
  },
  {
   "cell_type": "code",
   "execution_count": null,
   "metadata": {},
   "outputs": [],
   "source": [
    "#calcula a média de chamados dos últimos 5 meses para cada cliente\n",
    "#df_merged.apply(lambda x: get_5months_before(x[\"accountid\"], df_merged), axis=1)"
   ]
  },
  {
   "cell_type": "code",
   "execution_count": null,
   "metadata": {},
   "outputs": [],
   "source": []
  }
 ],
 "metadata": {
  "kernelspec": {
   "display_name": "Python 3",
   "language": "python",
   "name": "python3"
  },
  "language_info": {
   "codemirror_mode": {
    "name": "ipython",
    "version": 3
   },
   "file_extension": ".py",
   "mimetype": "text/x-python",
   "name": "python",
   "nbconvert_exporter": "python",
   "pygments_lexer": "ipython3",
   "version": "3.8.3"
  }
 },
 "nbformat": 4,
 "nbformat_minor": 4
}
