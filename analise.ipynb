{
 "cells": [
  {
   "cell_type": "markdown",
   "metadata": {},
   "source": [
    "## Case TON - Análise técnica dos dados\n",
    "##### Fernando Fincatti\n",
    "---"
   ]
  },
  {
   "cell_type": "markdown",
   "metadata": {},
   "source": [
    "## Imports\n",
    "---"
   ]
  },
  {
   "cell_type": "code",
   "execution_count": 1,
   "metadata": {},
   "outputs": [],
   "source": [
    "import matplotlib.pyplot as plt\n",
    "import numpy as np\n",
    "import pandas as pd\n",
    "import math\n",
    "import datetime\n",
    "from utils import*\n",
    "from sklearn.cluster import KMeans\n",
    "from scipy.spatial import distance as sci_distance\n",
    "from sklearn import cluster as sk_cluster"
   ]
  },
  {
   "cell_type": "code",
   "execution_count": 2,
   "metadata": {},
   "outputs": [],
   "source": [
    "df_cases = pd.read_csv(\"cases.csv\") #importa arquivo cases\n",
    "df_creds = pd.read_csv(\"creds.csv\") #importa arquivo creds"
   ]
  },
  {
   "cell_type": "code",
   "execution_count": 3,
   "metadata": {
    "scrolled": true
   },
   "outputs": [
    {
     "data": {
      "text/html": [
       "<div>\n",
       "<style scoped>\n",
       "    .dataframe tbody tr th:only-of-type {\n",
       "        vertical-align: middle;\n",
       "    }\n",
       "\n",
       "    .dataframe tbody tr th {\n",
       "        vertical-align: top;\n",
       "    }\n",
       "\n",
       "    .dataframe thead th {\n",
       "        text-align: right;\n",
       "    }\n",
       "</style>\n",
       "<table border=\"1\" class=\"dataframe\">\n",
       "  <thead>\n",
       "    <tr style=\"text-align: right;\">\n",
       "      <th></th>\n",
       "      <th>Unnamed: 0</th>\n",
       "      <th>cred_date</th>\n",
       "      <th>shipping_address_city</th>\n",
       "      <th>shipping_address_state</th>\n",
       "      <th>max_machine</th>\n",
       "      <th>accountid</th>\n",
       "    </tr>\n",
       "  </thead>\n",
       "  <tbody>\n",
       "    <tr>\n",
       "      <th>0</th>\n",
       "      <td>0</td>\n",
       "      <td>2020-04-18</td>\n",
       "      <td>Feira de Santana</td>\n",
       "      <td>BA</td>\n",
       "      <td>T1</td>\n",
       "      <td>NaN</td>\n",
       "    </tr>\n",
       "    <tr>\n",
       "      <th>1</th>\n",
       "      <td>1</td>\n",
       "      <td>2020-10-16</td>\n",
       "      <td>Bacuri</td>\n",
       "      <td>MA</td>\n",
       "      <td>T1</td>\n",
       "      <td>NaN</td>\n",
       "    </tr>\n",
       "  </tbody>\n",
       "</table>\n",
       "</div>"
      ],
      "text/plain": [
       "   Unnamed: 0   cred_date shipping_address_city shipping_address_state  \\\n",
       "0           0  2020-04-18      Feira de Santana                     BA   \n",
       "1           1  2020-10-16                Bacuri                     MA   \n",
       "\n",
       "  max_machine accountid  \n",
       "0          T1       NaN  \n",
       "1          T1       NaN  "
      ]
     },
     "execution_count": 3,
     "metadata": {},
     "output_type": "execute_result"
    }
   ],
   "source": [
    "df_creds.head(2)"
   ]
  },
  {
   "cell_type": "code",
   "execution_count": 4,
   "metadata": {},
   "outputs": [
    {
     "data": {
      "text/plain": [
       "Index(['Unnamed: 0', 'cred_date', 'shipping_address_city',\n",
       "       'shipping_address_state', 'max_machine', 'accountid'],\n",
       "      dtype='object')"
      ]
     },
     "execution_count": 4,
     "metadata": {},
     "output_type": "execute_result"
    }
   ],
   "source": [
    "df_creds.columns"
   ]
  },
  {
   "cell_type": "code",
   "execution_count": 5,
   "metadata": {
    "scrolled": true
   },
   "outputs": [
    {
     "data": {
      "text/html": [
       "<div>\n",
       "<style scoped>\n",
       "    .dataframe tbody tr th:only-of-type {\n",
       "        vertical-align: middle;\n",
       "    }\n",
       "\n",
       "    .dataframe tbody tr th {\n",
       "        vertical-align: top;\n",
       "    }\n",
       "\n",
       "    .dataframe thead th {\n",
       "        text-align: right;\n",
       "    }\n",
       "</style>\n",
       "<table border=\"1\" class=\"dataframe\">\n",
       "  <thead>\n",
       "    <tr style=\"text-align: right;\">\n",
       "      <th></th>\n",
       "      <th>Unnamed: 0</th>\n",
       "      <th>accountid</th>\n",
       "      <th>date_ref</th>\n",
       "      <th>channelid</th>\n",
       "      <th>waitingtime</th>\n",
       "      <th>missed</th>\n",
       "      <th>pesquisa_de_satisfa_o__c</th>\n",
       "      <th>assunto</th>\n",
       "      <th>Id</th>\n",
       "    </tr>\n",
       "  </thead>\n",
       "  <tbody>\n",
       "    <tr>\n",
       "      <th>0</th>\n",
       "      <td>0</td>\n",
       "      <td>NaN</td>\n",
       "      <td>NaN</td>\n",
       "      <td>NaN</td>\n",
       "      <td>NaN</td>\n",
       "      <td>NaN</td>\n",
       "      <td>NaN</td>\n",
       "      <td>NaN</td>\n",
       "      <td>NaN</td>\n",
       "    </tr>\n",
       "    <tr>\n",
       "      <th>1</th>\n",
       "      <td>1</td>\n",
       "      <td>NaN</td>\n",
       "      <td>NaN</td>\n",
       "      <td>NaN</td>\n",
       "      <td>NaN</td>\n",
       "      <td>NaN</td>\n",
       "      <td>NaN</td>\n",
       "      <td>NaN</td>\n",
       "      <td>NaN</td>\n",
       "    </tr>\n",
       "  </tbody>\n",
       "</table>\n",
       "</div>"
      ],
      "text/plain": [
       "   Unnamed: 0 accountid date_ref  channelid  waitingtime missed  \\\n",
       "0           0       NaN      NaN        NaN          NaN    NaN   \n",
       "1           1       NaN      NaN        NaN          NaN    NaN   \n",
       "\n",
       "  pesquisa_de_satisfa_o__c assunto   Id  \n",
       "0                      NaN     NaN  NaN  \n",
       "1                      NaN     NaN  NaN  "
      ]
     },
     "execution_count": 5,
     "metadata": {},
     "output_type": "execute_result"
    }
   ],
   "source": [
    "df_cases.head(2)"
   ]
  },
  {
   "cell_type": "code",
   "execution_count": 6,
   "metadata": {},
   "outputs": [
    {
     "data": {
      "text/plain": [
       "Index(['Unnamed: 0', 'accountid', 'date_ref', 'channelid', 'waitingtime',\n",
       "       'missed', 'pesquisa_de_satisfa_o__c', 'assunto', 'Id'],\n",
       "      dtype='object')"
      ]
     },
     "execution_count": 6,
     "metadata": {},
     "output_type": "execute_result"
    }
   ],
   "source": [
    "df_cases.columns"
   ]
  },
  {
   "cell_type": "code",
   "execution_count": 7,
   "metadata": {},
   "outputs": [],
   "source": [
    "#filtra somente para os chamados que possuem data registrada\n",
    "df_cases = df_cases.dropna(subset=['date_ref'])\n",
    "df_creds = df_creds.dropna(subset=['cred_date']) "
   ]
  },
  {
   "cell_type": "code",
   "execution_count": 8,
   "metadata": {},
   "outputs": [],
   "source": [
    "#transforma dados para datetime\n",
    "df_cases[\"date_ref\"] = df_cases['date_ref'].apply(lambda x: datetime.datetime.strptime(x, \"%Y-%m-%d\")) \n",
    "\n",
    "#cria coluna ano, mês e dia\n",
    "df_cases[\"mes\"] = df_cases['date_ref'].apply(lambda x: x.month) \n",
    "df_cases[\"dia\"] = df_cases['date_ref'].apply(lambda x: x.day) "
   ]
  },
  {
   "cell_type": "code",
   "execution_count": 9,
   "metadata": {},
   "outputs": [],
   "source": [
    "#transforma dados para datetime\n",
    "df_creds[\"cred_date\"] = df_creds['cred_date'].apply(lambda x: datetime.datetime.strptime(x, \"%Y-%m-%d\")) \n",
    "\n",
    "#cria coluna ano, mês e dia\n",
    "df_creds[\"mes\"] = df_creds['cred_date'].apply(lambda x: x.month) \n",
    "df_creds[\"dia\"] = df_creds['cred_date'].apply(lambda x: x.day) "
   ]
  },
  {
   "cell_type": "markdown",
   "metadata": {},
   "source": [
    "## Questão 1.\n",
    "---"
   ]
  },
  {
   "cell_type": "code",
   "execution_count": null,
   "metadata": {},
   "outputs": [],
   "source": [
    "df_cases_q1 = df_cases.copy()"
   ]
  },
  {
   "cell_type": "code",
   "execution_count": null,
   "metadata": {},
   "outputs": [],
   "source": [
    "#coluna que serve apenas para contagem de chamados\n",
    "df_cases_q1[\"count\"] = 1\n",
    "\n",
    "#tabela com a somatória de chamados para todo o período\n",
    "table_q1 = df_cases_q1[[\"mes\", \"count\"]].groupby(['mes']).sum()\n",
    "\n",
    "#tabela com a somatória de chamados para o período antes da implementação\n",
    "table_q1_tendencia = df_cases_q1.loc[df_cases_q1[\"mes\"] < 8][[\"mes\", \"count\"]].groupby(['mes']).count()"
   ]
  },
  {
   "cell_type": "code",
   "execution_count": null,
   "metadata": {},
   "outputs": [],
   "source": [
    "z = np.polyfit(table_q1_tendencia.index.tolist(), table_q1_tendencia[\"count\"].tolist(), 2)\n",
    "function = np.poly1d(z)"
   ]
  },
  {
   "cell_type": "code",
   "execution_count": null,
   "metadata": {
    "scrolled": true
   },
   "outputs": [],
   "source": [
    "plt.figure(figsize=(10,5))\n",
    "plt.title(\"Número de chamados por mês\")\n",
    "plt.xlabel(\"Número de chamado\")\n",
    "plt.plot(table_q1, label=\"realidade\") #plota curva dos dados\n",
    "plt.plot(table_q1, 'bo') #cria pontos\n",
    "plt.plot(table_q1.index.tolist(), function(table_q1.index.tolist()),\"r--\", label=\"tendência\") #realiza previsão\n",
    "plt.legend()\n",
    "plt.show()"
   ]
  },
  {
   "cell_type": "markdown",
   "metadata": {},
   "source": [
    "Com base no gráfco acima, podemos ver que o número de chamados vinha aumentando exponencialmente, após a implementação no dia \n",
    "primeiro de agosto, o volume de chamados caiu drasticamente, quebrando completamente a tendência de crescimento do gráfico. Portanto podemos concluir que a implementação foi um sucesso!"
   ]
  },
  {
   "cell_type": "markdown",
   "metadata": {},
   "source": [
    "## Questão 2.\n",
    "---"
   ]
  },
  {
   "cell_type": "code",
   "execution_count": null,
   "metadata": {},
   "outputs": [],
   "source": [
    "#filtra somente os cliente possíveis de serem indentificados\n",
    "df_cases_q2 = df_cases.dropna(subset=[\"accountid\"]) \n",
    "df_creds_q2 = df_creds.dropna(subset=[\"accountid\"])"
   ]
  },
  {
   "cell_type": "code",
   "execution_count": null,
   "metadata": {},
   "outputs": [],
   "source": [
    "#junta os dois datasets, somente aqueles que estão credenciados\n",
    "df_merged = pd.merge(df_cases_q2, df_creds_q2, on='accountid', how='inner')"
   ]
  },
  {
   "cell_type": "code",
   "execution_count": null,
   "metadata": {},
   "outputs": [],
   "source": [
    "#calcula distância em dias do dia de credenciamento\n",
    "df_merged[\"time_distance\"] = df_merged.apply(lambda x: (x[\"cred_date\"] - x[\"date_ref\"]).days, axis=1)"
   ]
  },
  {
   "cell_type": "code",
   "execution_count": null,
   "metadata": {},
   "outputs": [],
   "source": [
    "#coluna de contagem\n",
    "df_merged[\"count\"] = 1"
   ]
  },
  {
   "cell_type": "code",
   "execution_count": null,
   "metadata": {
    "scrolled": true
   },
   "outputs": [],
   "source": [
    "lista_ids = df_merged.accountid.unique().tolist() #pega todos os id unicos\n",
    "lista_media_mes_seguinte = []\n",
    "lista_media_meses_anteriores = []\n",
    "counter = 0 #progesso\n",
    "for id_ in lista_ids:\n",
    "    counter += 1\n",
    "    \n",
    "    response = get_5months_before(id_, df_merged) #pega chamados\n",
    "    \n",
    "    #armazena as médias de chamadas do mes seguinte ao cred para todos os clientes\n",
    "    lista_media_mes_seguinte.append(response[1])\n",
    "    \n",
    "    #armazena as médias de chamadas dos meses ateriores ao cred para todos os clientes\n",
    "    lista_media_meses_anteriores.append(response[0])   \n",
    "    \n",
    "    progresso = round(counter*100/len(lista_ids) , 2)\n",
    "    print(\"{:,} | {:,} > {}%\".format(counter, len(lista_ids), progresso), end = \"\\r\")  "
   ]
  },
  {
   "cell_type": "code",
   "execution_count": null,
   "metadata": {
    "scrolled": true
   },
   "outputs": [],
   "source": [
    "plt.figure(figsize=(10,6))\n",
    "plt.boxplot([lista_media_meses_anteriores, lista_media_mes_seguinte], labels=['antes', 'depois'])\n",
    "plt.title(\"Nº médio 5 meses antes do credenciamento Vs Nº de chamados após 1 mês do credenciamento \")\n",
    "plt.ylim(-2, 10)\n",
    "plt.ylabel(\"Número de chamados\")\n",
    "plt.show()"
   ]
  },
  {
   "cell_type": "markdown",
   "metadata": {},
   "source": [
    "Como é possível observar no boxplot acima, a concetração de número médios de chamados 5 meses antes do credenciamento é muito menor quando comparado ao mês seguinte ao mesmo. Portanto, podemos concluir que o número de chamados logo após a data do credenciamento do aumenta consideravelmente!"
   ]
  },
  {
   "cell_type": "code",
   "execution_count": null,
   "metadata": {},
   "outputs": [],
   "source": [
    "md_antes = sum(lista_media_meses_anteriores) / len(lista_media_meses_anteriores)\n",
    "md_depois= sum(lista_media_mes_seguinte) / len(lista_media_mes_seguinte)"
   ]
  },
  {
   "cell_type": "code",
   "execution_count": null,
   "metadata": {
    "scrolled": true
   },
   "outputs": [],
   "source": [
    "plt.title(\"Média de chamados antes do credenciamento Vs depois do credenciamento\")\n",
    "plt.bar(['Antes', 'Depois'], [md_antes, md_depois])\n",
    "plt.ylabel(\"Nº chamados\")\n",
    "plt.show()\n",
    "\n",
    "print(\"Após o credenciamento, o aumento no número médio de chamados é de: {0} vezes\".format(round(md_depois/md_antes, 2)))"
   ]
  },
  {
   "cell_type": "markdown",
   "metadata": {},
   "source": [
    "Como o gráfico acima, podemos reforçar a nossa conclusão, uma vez que a média de chamados aumentou 12.72 vezes logo após o credenciamento quando comparado aos 5 meses anteriores"
   ]
  },
  {
   "cell_type": "markdown",
   "metadata": {},
   "source": [
    "## Questão 3.\n",
    "---"
   ]
  },
  {
   "cell_type": "code",
   "execution_count": 97,
   "metadata": {},
   "outputs": [],
   "source": [
    "df_cluster = pd.merge(df_cases, df_creds, on='accountid', how='outer')"
   ]
  },
  {
   "cell_type": "code",
   "execution_count": 98,
   "metadata": {},
   "outputs": [],
   "source": [
    "#filtra para somente as linhas que possuem a pesquisa de satisfação preenchida\n",
    "df_cluster = df_cluster[['channelid','waitingtime','missed','pesquisa_de_satisfa_o__c', 'assunto', 'date_ref', 'cred_date']].dropna(subset=['pesquisa_de_satisfa_o__c'])"
   ]
  },
  {
   "cell_type": "code",
   "execution_count": 99,
   "metadata": {},
   "outputs": [],
   "source": [
    "#cria coluna binária, 1 se o cliente foi cred recentemente e 0 caso contrário\n",
    "df_cluster[\"cred_recente\"] = df_cluster.apply(lambda x: recentemente_credenciado(x['date_ref'],x['cred_date']), axis=1)"
   ]
  },
  {
   "cell_type": "code",
   "execution_count": 100,
   "metadata": {},
   "outputs": [],
   "source": [
    "#transforma avaliações boas em 1, neutras em 0 e ruins em -1\n",
    "df_cluster['avaliacao_to_integer'] = df_cluster['pesquisa_de_satisfa_o__c'].apply(lambda x: transforma_avaliação(x))"
   ]
  },
  {
   "cell_type": "code",
   "execution_count": 101,
   "metadata": {},
   "outputs": [],
   "source": [
    "df_cluster_test = df_cluster.drop([\"pesquisa_de_satisfa_o__c\", \"assunto\", \"date_ref\", \"cred_date\"], axis='columns')"
   ]
  },
  {
   "cell_type": "code",
   "execution_count": 102,
   "metadata": {
    "scrolled": true
   },
   "outputs": [
    {
     "data": {
      "image/png": "[encoded data removed]",
      "text/plain": [
       "<Figure size 432x288 with 1 Axes>"
      ]
     },
     "metadata": {
      "needs_background": "light"
     },
     "output_type": "display_data"
    }
   ],
   "source": [
    "#descobrindo o número de clsuters necessários\n",
    "cdata = df_cluster_test\n",
    "K = range(1, 20)\n",
    "KM = (sk_cluster.KMeans(n_clusters=k).fit(cdata) for k in K)\n",
    "centroids = (k.cluster_centers_ for k in KM)\n",
    "\n",
    "D_k = (sci_distance.cdist(cdata, cent, 'euclidean') for cent in centroids)\n",
    "dist = (np.min(D, axis=1) for D in D_k)\n",
    "avgWithinSS = [sum(d) / cdata.shape[0] for d in dist]\n",
    "plt.plot(K, avgWithinSS, 'b*-')\n",
    "plt.grid(True)\n",
    "plt.xlabel('Number of clusters')\n",
    "plt.ylabel('Average within-cluster sum of squares')\n",
    "plt.title('Elbow for KMeans clustering')\n",
    "plt.show()"
   ]
  },
  {
   "cell_type": "markdown",
   "metadata": {},
   "source": [
    "Com base no gráfico acima, podemos concluir que o número ideal de clusters para se utilizar é aproximadamente 4.\n",
    "\n",
    "Fonte: https://docs.microsoft.com/pt-br/sql/machine-learning/tutorials/python-clustering-model-build?view=sql-server-ver15"
   ]
  },
  {
   "cell_type": "code",
   "execution_count": 103,
   "metadata": {},
   "outputs": [
    {
     "name": "stdout",
     "output_type": "stream",
     "text": [
      "Cluster0(n=45185):\n",
      "-----------------\n",
      "Cluster1(n=195):\n",
      "-----------------\n",
      "Cluster2(n=521):\n",
      "-----------------\n",
      "Cluster3(n=55):\n",
      "-----------------\n",
      "Cluster4(n=1891):\n",
      "-----------------\n",
      "         channelid  waitingtime  cred_recente  avaliacao_to_integer\n",
      "cluster                                                            \n",
      "0              2.0    12.538519      0.805776              0.101339\n",
      "1              2.0   814.425641      0.887179              0.010256\n",
      "2              2.0   339.491363      0.861804              0.157390\n",
      "3              2.0  1488.327273      0.727273              0.145455\n",
      "4              2.0   110.756214      0.793231              0.043363\n"
     ]
    }
   ],
   "source": [
    "n_clusters = 5\n",
    "\n",
    "means_cluster = sk_cluster.KMeans(n_clusters=n_clusters, random_state=111)\n",
    "columns = ['channelid','waitingtime','missed','avaliacao_to_integer', 'cred_recente']\n",
    "est = means_cluster.fit(df_cluster[columns])\n",
    "clusters = est.labels_\n",
    "df_cluster['cluster'] = clusters\n",
    "\n",
    "# Print some data about the clusters:\n",
    "\n",
    "# For each cluster, count the members.\n",
    "for c in range(n_clusters):\n",
    "    cluster_members=df_cluster[df_cluster['cluster'] == c][:]\n",
    "    print('Cluster{}(n={}):'.format(c, len(cluster_members)))\n",
    "    print('-'* 17)\n",
    "print(df_cluster.groupby(['cluster']).mean())"
   ]
  },
  {
   "cell_type": "code",
   "execution_count": 104,
   "metadata": {},
   "outputs": [],
   "source": [
    "cluster = df_cluster.cluster.unique().tolist()"
   ]
  },
  {
   "cell_type": "code",
   "execution_count": 105,
   "metadata": {
    "scrolled": false
   },
   "outputs": [
    {
     "name": "stdout",
     "output_type": "stream",
     "text": [
      "CLUSTER -> 0\n",
      "Pontuação: 0.11\n",
      "\n",
      "CLUSTER -> 2\n",
      "Pontuação: 0.18\n",
      "\n",
      "CLUSTER -> 4\n",
      "Pontuação: 0.09\n",
      "\n",
      "CLUSTER -> 3\n",
      "Pontuação: 0.15\n",
      "\n",
      "CLUSTER -> 1\n",
      "Pontuação: 0.03\n",
      "\n"
     ]
    }
   ],
   "source": [
    "for cl in cluster:\n",
    "    print(\"CLUSTER -> {0}\".format(cl))\n",
    "    pos = df_cluster.loc[df_cluster['cluster'] == cl]['avaliacao_to_integer'].value_counts(True)[1] * 1\n",
    "    \n",
    "    try:\n",
    "        neg = df_cluster.loc[df_cluster['cluster'] == cl]['avaliacao_to_integer'].value_counts(True)[1] * (-1)\n",
    "        print(\"Pontuação: {0}\".format(round(pos+neutras-neg, 2)))\n",
    "    except:\n",
    "        print(\"Pontuação: {0}\".format(round(pos, 2)))\n",
    "\n",
    "        \n",
    "    print()"
   ]
  },
  {
   "cell_type": "markdown",
   "metadata": {},
   "source": [
    "Para realizar a análise foi utilizado o algorítmo k-means, segmentando o dataset em 5 diferentes grupos. Foi estabelecido um sistema de pontuação, sendo avaliações neutras = 0, positivas = 1 e negativas = -1. Dessa forma, a pontuação de cada um dos clusters foi calculada da seguinte forma:\n",
    "\n",
    "(Nº de av. positivas)*1 + (Nº de av. neutras)*0 + (Nº de av. negativas)*(-1)\n",
    "\n",
    "É possível observar que o cluster 1 apresenta a menor pontuação, portanto possui as piores avaliações. Dessa forma, o CLUSTER 1 seria um bom ponto de partida para melhorar a avaliação dos atendimentos."
   ]
  },
  {
   "cell_type": "code",
   "execution_count": null,
   "metadata": {},
   "outputs": [],
   "source": []
  }
 ],
 "metadata": {
  "kernelspec": {
   "display_name": "Python 3",
   "language": "python",
   "name": "python3"
  },
  "language_info": {
   "codemirror_mode": {
    "name": "ipython",
    "version": 3
   },
   "file_extension": ".py",
   "mimetype": "text/x-python",
   "name": "python",
   "nbconvert_exporter": "python",
   "pygments_lexer": "ipython3",
   "version": "3.8.3"
  }
 },
 "nbformat": 4,
 "nbformat_minor": 4
}
